{
 "cells": [
  {
   "cell_type": "code",
   "execution_count": 6,
   "metadata": {},
   "outputs": [],
   "source": [
    "#ADNet/adnet_test.m\n",
    "import sys\n",
    "if '/opt/ros/kinetic/lib/python2.7/dist-packages' in sys.path:\n",
    "    sys.path.remove('/opt/ros/kinetic/lib/python2.7/dist-packages')\n",
    "import cv2\n",
    "import os\n",
    "import numpy as np\n",
    "import torch\n",
    "import torch.optim as optim\n",
    "from torch import nn\n",
    "import torch.utils.data as data\n",
    "import glob\n",
    "import time\n",
    "from random import shuffle\n",
    "from tensorboardX import SummaryWriter"
   ]
  },
  {
   "cell_type": "code",
   "execution_count": 8,
   "metadata": {},
   "outputs": [],
   "source": [
    "vid_info={\n",
    "        'gt' : [],\n",
    "        'img_files' : [],\n",
    "        'nframes' : 0\n",
    "    }\n",
    "vid_path='../datasets/data/test/vid/ILSVRC2015_train_00146003'\n",
    "vid_info['img_files'] = glob.glob(os.path.join(vid_path, '*.jpeg'))\n",
    "vid_info['img_files'].sort(key=str.lower)"
   ]
  },
  {
   "cell_type": "code",
   "execution_count": 18,
   "metadata": {},
   "outputs": [
    {
     "data": {
      "text/plain": [
       "187"
      ]
     },
     "execution_count": 18,
     "metadata": {},
     "output_type": "execute_result"
    }
   ],
   "source": [
    "a=os.path.join(vid_path, '*.JPEG')\n",
    "b=glob.glob(a)\n",
    "len(b)"
   ]
  }
 ],
 "metadata": {
  "kernelspec": {
   "display_name": "“dl”",
   "language": "python",
   "name": "dl"
  },
  "language_info": {
   "codemirror_mode": {
    "name": "ipython",
    "version": 3
   },
   "file_extension": ".py",
   "mimetype": "text/x-python",
   "name": "python",
   "nbconvert_exporter": "python",
   "pygments_lexer": "ipython3",
   "version": "3.6.8"
  }
 },
 "nbformat": 4,
 "nbformat_minor": 2
}
